{
 "cells": [
  {
   "cell_type": "markdown",
   "id": "588d35c8-5cb0-42f7-9079-73b998aac86f",
   "metadata": {},
   "source": [
    "# Download einer Zeitung aus dem Zeitungsportal"
   ]
  },
  {
   "cell_type": "code",
   "execution_count": 1,
   "id": "186c332e-4c6c-4a0c-b4f6-c207ad05aa79",
   "metadata": {},
   "outputs": [
    {
     "name": "stdout",
     "output_type": "stream",
     "text": [
      "Note: you may need to restart the kernel to use updated packages.\n"
     ]
    }
   ],
   "source": [
    "%pip -q install pandas lxml ipywidgets tqdm"
   ]
  },
  {
   "cell_type": "code",
   "execution_count": 3,
   "id": "db08a43a-0247-40f0-9dd7-45f977df087b",
   "metadata": {},
   "outputs": [
    {
     "data": {
      "application/vnd.jupyter.widget-view+json": {
       "model_id": "c0313d4aaaf7497e81ed3bdef44add0e",
       "version_major": 2,
       "version_minor": 0
      },
      "text/plain": [
       "HBox(children=(Dropdown(description='Zeitungstitel:', options={'3103755-0 | Wochenblatt für Wilsdruff\\\\, Thara…"
      ]
     },
     "metadata": {},
     "output_type": "display_data"
    },
    {
     "data": {
      "application/vnd.jupyter.widget-view+json": {
       "model_id": "906b367071c147bc8c5c662d9e3032c0",
       "version_major": 2,
       "version_minor": 0
      },
      "text/plain": [
       "Output()"
      ]
     },
     "metadata": {},
     "output_type": "display_data"
    }
   ],
   "source": [
    "import os\n",
    "import pandas as pd\n",
    "import requests as req\n",
    "from lxml import etree\n",
    "import ipywidgets as widgets\n",
    "from tqdm import tqdm\n",
    "\n",
    "# Basis-URL für die Deutsche Digitale Bibliothek API\n",
    "ddb_api = \"https://api.deutsche-digitale-bibliothek.de\"\n",
    "\n",
    "def download_newspaper_issues(zdb_id, output_folder):\n",
    "    # Endpunkt für den Zugriff auf die Quelldaten einer Ressource\n",
    "    ddb_api_source_call = \"/items/{ddb_id}/source/record\"\n",
    "    \n",
    "    # Endpunkt für die Suche nach Zeitungsausgaben basierend auf der ZDB-ID\n",
    "    ddb_api_search_call = f\"/search/index/newspaper-issues/select?q=zdb_id:{zdb_id} AND type:issue&fl=id,publication_date&wt=csv&rows=2147483647\"\n",
    "    \n",
    "    # Namensräume für XML-Elemente im METS-Format\n",
    "    mets_mods_namespaces = {\n",
    "        \"mets\": \"http://www.loc.gov/METS/\",\n",
    "        \"xlink\": \"http://www.w3.org/1999/xlink\"\n",
    "    }\n",
    "    \n",
    "    # Lese die CSV-Daten mit Zeitungsinformationen von der Deutschen Digitalen Bibliothek\n",
    "    df = pd.read_csv(req.utils.requote_uri(ddb_api + ddb_api_search_call))\n",
    "    \n",
    "    # Fortschrittsanzeige mit tqdm\n",
    "    t = tqdm(df.iterrows(), total=len(df), desc=\"Download\")\n",
    "    \n",
    "    # Iteriere über die Zeilen des DataFrames\n",
    "    for index, row in t:\n",
    "        # Extrahiere Informationen aus der aktuellen Zeile\n",
    "        ddb_id = row['id']\n",
    "        publication_date = row['publication_date']\n",
    "        \n",
    "        # Erstelle einen Pfad zum Speichern der heruntergeladenen Daten\n",
    "        save_path = f\"{output_folder}/{publication_date[0:10]}_{ddb_id}\"\n",
    "        \n",
    "        # Erstelle den Ordner, falls er nicht existiert\n",
    "        os.makedirs(save_path, exist_ok=True)\n",
    "        \n",
    "        # Baue die URL für den Zugriff auf die Quelldaten zusammen\n",
    "        download_url = req.utils.requote_uri(ddb_api + ddb_api_source_call.format(ddb_id=ddb_id))\n",
    "        \n",
    "        # Führe die Anfrage für die Quelldaten durch\n",
    "        download_resp = req.get(download_url, headers={\"Accept\": \"application/xml\"})\n",
    "        \n",
    "        # Parsen der XML-Daten mit lxml\n",
    "        download_root = etree.fromstring(download_resp.content)\n",
    "    \n",
    "        # Extrahiere die URLs der Bildressourcen\n",
    "        image_urls = download_root.xpath(\"//mets:mets/mets:fileSec/mets:fileGrp[@USE='MAX']/mets:file/mets:FLocat/@xlink:href\", namespaces=mets_mods_namespaces)\n",
    "    \n",
    "        # Wenn die 'MAX'-fileGrp nicht existiert, verwende die 'DEFAULT'-fileGrp als Fallback\n",
    "        if len(image_urls) < 1:\n",
    "            image_urls = download_root.xpath(\"//mets:mets/mets:fileSec/mets:fileGrp[@USE='DEFAULT']/mets:file/mets:FLocat/@xlink:href\", namespaces=mets_mods_namespaces)\n",
    "        \n",
    "        # Iteriere über die Bild-URLs und speichere die Dateien\n",
    "        for i, image_url in enumerate(image_urls):\n",
    "            image_filename = f\"{save_path}/{str(i + 1).zfill(4)}.jpg\"\n",
    "            image_resp = req.get(image_url)\n",
    "            \n",
    "            with open(image_filename, 'wb') as image_file:\n",
    "                image_file.write(image_resp.content)\n",
    "    \n",
    "            # Aktualisiere die Fortschrittsanzeige\n",
    "            t.set_postfix_str(f\"Bild {i + 1}/{len(image_urls)} für {publication_date[0:10]} gespeichert: {image_filename}\")\n",
    "    \n",
    "        # Extrahiere die URLs der Volltextressourcen\n",
    "        fulltext_urls = download_root.xpath(\"//mets:mets/mets:fileSec/mets:fileGrp[@USE='DDB_FULLTEXT']/mets:file/mets:FLocat/@xlink:href\", namespaces=mets_mods_namespaces)\n",
    "    \n",
    "        # Wenn die 'DDB_FULLTEXT'-fileGrp nicht existiert, verwende die 'FULLTEXT'-fileGrp als Fallback\n",
    "        if len(fulltext_urls) < 1:\n",
    "            fulltext_urls = download_root.xpath(\"//mets:mets/mets:fileSec/mets:fileGrp[@USE='FULLTEXT']/mets:file/mets:FLocat/@xlink:href\", namespaces=mets_mods_namespaces)\n",
    "    \n",
    "        \n",
    "        # Iteriere über die Volltext-URLs und speichere die Dateien\n",
    "        for i, fulltext_url in enumerate(fulltext_urls):\n",
    "            fulltext_filename = f\"{save_path}/{str(i + 1).zfill(4)}.xml\"\n",
    "            fulltext_resp = req.get(fulltext_url)\n",
    "            \n",
    "            with open(fulltext_filename, 'wb') as fulltext_file:\n",
    "                fulltext_file.write(fulltext_resp.content)\n",
    "    \n",
    "            # Aktualisiere die Fortschrittsanzeige\n",
    "            t.set_postfix_str(f\"Volltext {i + 1}/{len(fulltext_urls)} für {publication_date[0:10]} gespeichert: {fulltext_filename}\")\n",
    "\n",
    "\n",
    "# Definiere den Endpunkt für die Suche nach Zeitungstitel\n",
    "ddb_api_search_call = \"/search/index/newspaper/select?q=hasLoadedIssues:true&fl=id,title&wt=csv&rows=2147483647\"\n",
    "\n",
    "# Lade die CSV-Datei von der Deutschen Digitalen Bibliothek API\n",
    "df = pd.read_csv(req.utils.requote_uri(ddb_api + ddb_api_search_call))\n",
    "\n",
    "# Erstelle eine neue Spalte 'label', die eine Kombination aus 'id' und 'title' ist\n",
    "df['label'] = df.iloc[:, 0] + \" | \" + df.iloc[:, 1].apply(lambda x: x[:128])\n",
    "\n",
    "# Erstelle ein Dropdown-Widget mit 'label' als Optionen und 'id' als tatsächlichen Wert\n",
    "dropdown = widgets.Dropdown(\n",
    "    options=dict(zip(df['label'], df.iloc[:, 0])),\n",
    "    description='Zeitungstitel:',\n",
    ")\n",
    "\n",
    "# Erstelle einen Button mit der Bezeichnung 'Download'\n",
    "button = widgets.Button(description=\"Download\")\n",
    "\n",
    "# Erstelle ein Output-Widget für die Anzeige von Ergebnissen oder Fortschritten\n",
    "output = widgets.Output()\n",
    "\n",
    "# Zeige das Dropdown, den Button und das Output-Widget an, angeordnet in einer horizontalen Box\n",
    "display(widgets.HBox([dropdown, button]), output)\n",
    "\n",
    "# Funktion, die aufgerufen wird, wenn der Button geklickt wird\n",
    "def on_button_clicked(b):\n",
    "    with output:\n",
    "        # Deaktiviere den Button nach dem Klicken, um wiederholtes Klicken zu verhindern\n",
    "        button.disabled = True\n",
    "        \n",
    "        # Rufe die Funktion 'download_newspaper_issues' mit dem ausgewählten Wert des Dropdowns auf\n",
    "        download_newspaper_issues(dropdown.value, dropdown.value)\n",
    "\n",
    "# Registriere die Funktion 'on_button_clicked' als Event-Handler für den Button-Click\n",
    "button.on_click(on_button_clicked)"
   ]
  }
 ],
 "metadata": {
  "kernelspec": {
   "display_name": "Python 3 (ipykernel)",
   "language": "python",
   "name": "python3"
  },
  "language_info": {
   "codemirror_mode": {
    "name": "ipython",
    "version": 3
   },
   "file_extension": ".py",
   "mimetype": "text/x-python",
   "name": "python",
   "nbconvert_exporter": "python",
   "pygments_lexer": "ipython3",
   "version": "3.11.9"
  }
 },
 "nbformat": 4,
 "nbformat_minor": 5
}
