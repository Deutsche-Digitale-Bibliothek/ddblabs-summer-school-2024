{
 "cells": [
  {
   "cell_type": "markdown",
   "id": "60509f28-75a3-4c37-a883-85f05248b777",
   "metadata": {},
   "source": [
    "# Summer School\n",
    "\n",
    "## Teil 4: Named entity recognition"
   ]
  },
  {
   "cell_type": "code",
   "execution_count": null,
   "id": "cfe96079-2024-48d5-aaa3-78f94dfd7893",
   "metadata": {},
   "outputs": [],
   "source": [
    "import pandas as pd\n",
    "import os\n",
    "import spacy\n",
    "from spacy import displacy\n",
    "import nltk\n",
    "from nltk.tokenize import word_tokenize\n",
    "from nltk.corpus import stopwords\n",
    "from string import punctuation\n",
    "from collections import Counter"
   ]
  },
  {
   "cell_type": "code",
   "execution_count": null,
   "id": "294a912f-2914-428b-9cdc-b4ea70fc3e85",
   "metadata": {},
   "outputs": [],
   "source": [
    "df = pd.read_csv(\"otra_alemania_content.csv\", encoding=\"utf-8\")\n",
    "df"
   ]
  },
  {
   "cell_type": "code",
   "execution_count": null,
   "id": "153c277d-7122-4436-a047-b78ed6bbb4ef",
   "metadata": {},
   "outputs": [],
   "source": [
    "#Code für den Download eines der Sprachmodelle: \n",
    "#!python -m spacy download de_core_news_lg\n",
    "\n",
    "#Laden eines Trained Model for German\n",
    "nlp = spacy.load('de_core_news_sm')\n",
    "print(nlp.pipe_names)"
   ]
  },
  {
   "cell_type": "markdown",
   "id": "e70c3a50-98c9-4a89-90c9-3d7c78a18cd0",
   "metadata": {},
   "source": [
    "#### Umwandlung der einzelnen Wörter in spacy-doc-objects: \n",
    "\n",
    "Beispiel: "
   ]
  },
  {
   "cell_type": "code",
   "execution_count": null,
   "id": "71ccd108-d6d8-4f46-a9fa-fadf61e0ef72",
   "metadata": {},
   "outputs": [],
   "source": [
    "sentence = 'Dies ist ein \"Test\", oder?'\n",
    "doc = nlp(sentence)"
   ]
  },
  {
   "cell_type": "code",
   "execution_count": null,
   "id": "a95f2794-25c0-4288-a813-1b5992c65991",
   "metadata": {},
   "outputs": [],
   "source": [
    "for token in doc:\n",
    "    print(token.text, token.pos_)"
   ]
  },
  {
   "cell_type": "code",
   "execution_count": null,
   "id": "45c99a8c-78c3-4950-94b5-74874c4a879d",
   "metadata": {},
   "outputs": [],
   "source": [
    "# Wähle ein spezifisches Token (z.B. das erste Token)\n",
    "test_token = doc[0]  # \"Das\"\n",
    "\n",
    "# Ausgabe aller verfügbaren Attribute des Tokens\n",
    "print(f\"Token: {test_token.text}\")\n",
    "print(f\"Index: {test_token.i}\")\n",
    "print(f\"Text: {test_token.text}\")\n",
    "print(f\"Lemma: {test_token.lemma_}\")\n",
    "print(f\"Part-of-Speech: {test_token.pos_}\")\n",
    "print(f\"Tag: {test_token.tag_}\")\n",
    "print(f\"Dependency: {test_token.dep_}\")\n",
    "print(f\"Shape: {test_token.shape_}\")\n",
    "print(f\"Is Alpha: {test_token.is_alpha}\")\n",
    "print(f\"Is Stop: {test_token.is_stop}\")\n",
    "print(f\"Vector: {test_token.vector}\")  # Nur verfügbar, wenn das Modell Vektoren unterstützt\n",
    "\n",
    "# Ausgabe der benutzerdefinierten Attribute (falls vorhanden)\n",
    "if hasattr(test_token._, 'my_custom_attr'):\n",
    "    print(f\"Benutzerdefiniertes Attribut: {test_token._.my_custom_attr}\")"
   ]
  },
  {
   "cell_type": "markdown",
   "id": "2b8683b7-f9ed-4a49-92e3-11de5590b75c",
   "metadata": {},
   "source": [
    "Funktion zur Erstellung der doc-Objekte für die Texte: "
   ]
  },
  {
   "cell_type": "code",
   "execution_count": null,
   "id": "152c8d5c-5b08-4f52-b6cb-5389e42066a7",
   "metadata": {},
   "outputs": [],
   "source": [
    "def process_text(text):\n",
    "    text = str(text)\n",
    "    return nlp(text)"
   ]
  },
  {
   "cell_type": "code",
   "execution_count": null,
   "id": "ea8e7b62-4e93-4dac-b1fd-d96b3d98c2f1",
   "metadata": {},
   "outputs": [],
   "source": [
    "df['doc'] = df['text'].apply(process_text)"
   ]
  },
  {
   "cell_type": "code",
   "execution_count": null,
   "id": "94994dd8-1c84-4316-b37a-03103523c120",
   "metadata": {},
   "outputs": [],
   "source": [
    "df"
   ]
  },
  {
   "cell_type": "markdown",
   "id": "97947b62-10e4-4002-91bf-8c73ce12eb14",
   "metadata": {},
   "source": [
    "### Dependency parsing"
   ]
  },
  {
   "cell_type": "code",
   "execution_count": null,
   "id": "1c6c30e0-3cfc-43e2-8b57-6be938eff087",
   "metadata": {},
   "outputs": [],
   "source": [
    "doc = df['doc'][2]\n",
    "sentences = list(doc.sents)\n",
    "sentence = sentences[0]\n",
    "print(sentence)\n",
    "displacy.render(sentence, style=\"dep\", jupyter=True)"
   ]
  },
  {
   "cell_type": "markdown",
   "id": "b9b2456a-5083-4f71-9fd7-04f9606e0cee",
   "metadata": {},
   "source": [
    "## Named entity recogintion\n",
    "\n",
    "Anzeige der im heruntergeladenen Sprachmodell enthaltenen Entitäts-Typen: "
   ]
  },
  {
   "cell_type": "code",
   "execution_count": null,
   "id": "41bca692-e3d2-4d43-88c9-3132dac654bd",
   "metadata": {},
   "outputs": [],
   "source": [
    "labels = nlp.get_pipe(\"ner\").labels\n",
    "\n",
    "for label in labels:\n",
    "    print(label + ' : ' + spacy.explain(label))"
   ]
  },
  {
   "cell_type": "markdown",
   "id": "e0072ca8-9115-494d-a825-93cee8259bcd",
   "metadata": {},
   "source": [
    "Extraktion der einzelnen named-entity-Typen:"
   ]
  },
  {
   "cell_type": "code",
   "execution_count": null,
   "id": "431a095c-6c5d-45c3-ba99-bdbb8c3b883c",
   "metadata": {},
   "outputs": [],
   "source": [
    "# Funktion zur Extraktion der einzelnen named entities:\n",
    "def extract_named_entities(doc):\n",
    "    return [ent.label_ for ent in doc.ents]\n",
    "\n",
    "#Erstellen einer neuen Spalte für die Typen: \n",
    "df['Named_Entities'] = df['doc'].apply(extract_named_entities)\n",
    "df"
   ]
  },
  {
   "cell_type": "markdown",
   "id": "7e4dd3b4-dbfe-4a1d-a62d-b38346969ea4",
   "metadata": {},
   "source": [
    "Ergänzung der einzelnen named entities: "
   ]
  },
  {
   "cell_type": "code",
   "execution_count": null,
   "id": "37eb8423-1bb7-4821-b9d3-28bae2a36371",
   "metadata": {},
   "outputs": [],
   "source": [
    "def extract_named_entities(doc):\n",
    "    return [ent for ent in doc.ents]\n",
    "\n",
    "df['NE_Words'] = df['doc'].apply(extract_named_entities)\n",
    "df"
   ]
  },
  {
   "cell_type": "markdown",
   "id": "bbee29aa-25fa-4de1-a4eb-afdbac6f2232",
   "metadata": {},
   "source": [
    "#### Beispiel anhand des Textes aus einer gewählten Zeile: "
   ]
  },
  {
   "cell_type": "code",
   "execution_count": null,
   "id": "44cb316b-23cf-41e8-947d-f7d9c4e756a4",
   "metadata": {},
   "outputs": [],
   "source": [
    "doc = df['doc'][1]\n",
    "colors = {'PER': '#99ff99'}  # Helle Rotfarbe für Personen\n",
    "options = {'colors': colors}\n",
    "displacy.render(doc, style='ent', jupyter=True, options=options)"
   ]
  },
  {
   "cell_type": "markdown",
   "id": "8bc91880-17c7-46e4-bd75-2026ac7deef7",
   "metadata": {},
   "source": [
    "### Extraktion eines gewählten Entitätentyps am Beispiel von Personen: "
   ]
  },
  {
   "cell_type": "code",
   "execution_count": null,
   "id": "720702ed-4751-48a2-ba83-006660de7261",
   "metadata": {},
   "outputs": [],
   "source": [
    "persons = []\n",
    "\n",
    "def get_persons(doc):\n",
    "    for ent in doc.ents:\n",
    "        if ent.label_ == \"PER\":\n",
    "           persons.append(ent)\n",
    "    \n",
    "df['doc'].apply(get_persons)\n",
    "\n",
    "print(persons)"
   ]
  },
  {
   "cell_type": "code",
   "execution_count": null,
   "id": "a69dcd58-6a95-4665-937b-143801556d6a",
   "metadata": {},
   "outputs": [],
   "source": [
    "print(len(persons))"
   ]
  },
  {
   "cell_type": "code",
   "execution_count": null,
   "id": "71bbbb59-7983-4f45-8e42-89bff1cfa7f2",
   "metadata": {},
   "outputs": [],
   "source": [
    "print(persons[0])"
   ]
  },
  {
   "cell_type": "code",
   "execution_count": null,
   "id": "f2747782-d382-45a7-ac4c-f1bff23fb01e",
   "metadata": {},
   "outputs": [],
   "source": [
    "print(type(persons[0]))"
   ]
  },
  {
   "cell_type": "code",
   "execution_count": null,
   "id": "29484211-1696-46b9-9564-a601101e1f54",
   "metadata": {},
   "outputs": [],
   "source": [
    "entities = [ent.text for ent in persons]\n",
    "entity_counts = Counter(entities)"
   ]
  },
  {
   "cell_type": "code",
   "execution_count": null,
   "id": "4aea8d92-9bb0-4580-980b-80472b18c589",
   "metadata": {},
   "outputs": [],
   "source": [
    "persons_list = list(entity_counts.items())\n",
    "pers = pd.DataFrame(persons_list, columns=['Entity', 'Count'])"
   ]
  },
  {
   "cell_type": "code",
   "execution_count": null,
   "id": "9cc93f8b-9b6c-454f-ab65-1b0389ccdf98",
   "metadata": {},
   "outputs": [],
   "source": [
    "pers"
   ]
  },
  {
   "cell_type": "code",
   "execution_count": null,
   "id": "76162781-6318-49c4-8c7e-95a52f28603b",
   "metadata": {},
   "outputs": [],
   "source": [
    "df_sorted = pers.sort_values(by='Count', ascending=False)\n",
    "df_sorted.head(30)"
   ]
  },
  {
   "cell_type": "code",
   "execution_count": null,
   "id": "a31eab6c-ce58-4a52-87bf-78d1fb315dcc",
   "metadata": {},
   "outputs": [],
   "source": []
  }
 ],
 "metadata": {
  "kernelspec": {
   "display_name": "Python 3 (ipykernel)",
   "language": "python",
   "name": "python3"
  },
  "language_info": {
   "codemirror_mode": {
    "name": "ipython",
    "version": 3
   },
   "file_extension": ".py",
   "mimetype": "text/x-python",
   "name": "python",
   "nbconvert_exporter": "python",
   "pygments_lexer": "ipython3",
   "version": "3.10.13"
  }
 },
 "nbformat": 4,
 "nbformat_minor": 5
}
